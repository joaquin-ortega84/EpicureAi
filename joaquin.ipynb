{
 "cells": [
  {
   "cell_type": "code",
   "execution_count": 1,
   "metadata": {},
   "outputs": [
    {
     "ename": "NameError",
     "evalue": "name 'YourModelClass' is not defined",
     "output_type": "error",
     "traceback": [
      "\u001b[0;31m---------------------------------------------------------------------------\u001b[0m",
      "\u001b[0;31mNameError\u001b[0m                                 Traceback (most recent call last)",
      "\u001b[1;32m/Users/joaqo/code/joaquin-ortega84/projects/EpicureAi/joaquin.ipynb Cell 1\u001b[0m line \u001b[0;36m5\n\u001b[1;32m      <a href='vscode-notebook-cell:/Users/joaqo/code/joaquin-ortega84/projects/EpicureAi/joaquin.ipynb#W1sZmlsZQ%3D%3D?line=1'>2</a>\u001b[0m \u001b[39mimport\u001b[39;00m \u001b[39mtorchvision\u001b[39;00m\u001b[39m.\u001b[39;00m\u001b[39mmodels\u001b[39;00m \u001b[39mas\u001b[39;00m \u001b[39mmodels\u001b[39;00m\n\u001b[1;32m      <a href='vscode-notebook-cell:/Users/joaqo/code/joaquin-ortega84/projects/EpicureAi/joaquin.ipynb#W1sZmlsZQ%3D%3D?line=3'>4</a>\u001b[0m \u001b[39m# Assuming you have a PyTorch model with the same architecture as the pre-trained model\u001b[39;00m\n\u001b[0;32m----> <a href='vscode-notebook-cell:/Users/joaqo/code/joaquin-ortega84/projects/EpicureAi/joaquin.ipynb#W1sZmlsZQ%3D%3D?line=4'>5</a>\u001b[0m your_model \u001b[39m=\u001b[39m YourModelClass()\n\u001b[1;32m      <a href='vscode-notebook-cell:/Users/joaqo/code/joaquin-ortega84/projects/EpicureAi/joaquin.ipynb#W1sZmlsZQ%3D%3D?line=6'>7</a>\u001b[0m \u001b[39m# Path to the best.pt file downloaded from Comet ML\u001b[39;00m\n\u001b[1;32m      <a href='vscode-notebook-cell:/Users/joaqo/code/joaquin-ortega84/projects/EpicureAi/joaquin.ipynb#W1sZmlsZQ%3D%3D?line=7'>8</a>\u001b[0m best_pt_path \u001b[39m=\u001b[39m \u001b[39m'\u001b[39m\u001b[39mpath/to/best.pt\u001b[39m\u001b[39m'\u001b[39m\n",
      "\u001b[0;31mNameError\u001b[0m: name 'YourModelClass' is not defined"
     ]
    }
   ],
   "source": [
    "import torch\n",
    "import torchvision.models as models\n",
    "\n",
    "# Assuming you have a PyTorch model with the same architecture as the pre-trained model\n",
    "your_model = YourModelClass()\n",
    "\n",
    "# Path to the best.pt file downloaded from Comet ML\n",
    "best_pt_path = 'path/to/best.pt'\n",
    "\n",
    "# Load the pre-trained model weights into your model\n",
    "try:\n",
    "    # Attempt to load the model using PyTorch's load function\n",
    "    your_model.load_state_dict(torch.load(best_pt_path))\n",
    "    print(\"Model weights loaded successfully!\")\n",
    "except Exception as e:\n",
    "    print(f\"Error loading model weights: {e}\")\n",
    "\n",
    "# Optional: Print the model architecture\n",
    "print(your_model)\n"
   ]
  },
  {
   "cell_type": "code",
   "execution_count": null,
   "metadata": {},
   "outputs": [],
   "source": []
  }
 ],
 "metadata": {
  "kernelspec": {
   "display_name": "epicure_ai",
   "language": "python",
   "name": "python3"
  },
  "language_info": {
   "codemirror_mode": {
    "name": "ipython",
    "version": 3
   },
   "file_extension": ".py",
   "mimetype": "text/x-python",
   "name": "python",
   "nbconvert_exporter": "python",
   "pygments_lexer": "ipython3",
   "version": "3.10.6"
  }
 },
 "nbformat": 4,
 "nbformat_minor": 2
}
