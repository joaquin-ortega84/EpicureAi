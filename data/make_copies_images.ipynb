{
 "cells": [
  {
   "cell_type": "code",
   "execution_count": 14,
   "metadata": {},
   "outputs": [],
   "source": [
    "import cv2\n",
    "import os\n",
    "from shutil import copyfile\n",
    "\n",
    "input_folder = \"/Users/joaqo/code/joaquin-ortega84/projects/epicureai/raw_ingredients\"\n",
    "processed_folder = \"/Users/joaqo/code/joaquin-ortega84/projects/epicureai/processed\"\n",
    "target_size = (256, 256)  # Adjust the size as needed\n",
    "\n",
    "image_files = os.listdir(input_folder)\n",
    "\n",
    "for image_file in image_files:\n",
    "    image_path = os.path.join(input_folder, image_file)\n",
    "\n",
    "    # Read the image\n",
    "    image = cv2.imread(image_path)\n",
    "\n",
    "    # Resize while maintaining aspect ratio\n",
    "    height, width = image.shape[:2]\n",
    "    aspect_ratio = width / height\n",
    "    new_width = int(target_size[0])\n",
    "    new_height = int(new_width / aspect_ratio)\n",
    "\n",
    "    resized_image = cv2.resize(image, (new_width, new_height))\n",
    "\n",
    "    # Save the resized image to the output folder\n",
    "    output_path = os.path.join(processed_folder, image_file)\n",
    "    cv2.imwrite(output_path, resized_image)\n",
    "\n",
    "print(\"Done\")\n"
   ]
  },
  {
   "cell_type": "code",
   "execution_count": 18,
   "metadata": {},
   "outputs": [
    {
     "name": "stdout",
     "output_type": "stream",
     "text": [
      "Images duplicated successfully.\n"
     ]
    }
   ],
   "source": [
    "import cv2\n",
    "import os\n",
    "from shutil import copyfile\n",
    "\n",
    "copies_folder = \"/Users/joaqo/code/joaquin-ortega84/projects/epicureai/copies_folder\"\n",
    "num_copies = 10\n",
    "\n",
    "# Create the output folder if it doesn't exist\n",
    "os.makedirs(copies_folder, exist_ok=True)\n",
    "\n",
    "image_files = os.listdir(input_folder)  # Assuming your resized images are in 'input_folder'\n",
    "\n",
    "for image_file in image_files:\n",
    "    image_path = os.path.join(processed_folder, image_file)\n",
    "\n",
    "    # Read the resized image\n",
    "    resized_image = cv2.imread(image_path)\n",
    "\n",
    "    # Create 10 copies of the image\n",
    "    for i in range(num_copies):\n",
    "        output_filename = f\"{os.path.splitext(image_file)[0]}_copy_{i+1}.png\"\n",
    "        output_path = os.path.join(copies_folder, output_filename)\n",
    "        cv2.imwrite(output_path, resized_image)\n",
    "\n",
    "print(\"Done\")\n"
   ]
  },
  {
   "cell_type": "code",
   "execution_count": null,
   "metadata": {},
   "outputs": [],
   "source": []
  }
 ],
 "metadata": {
  "kernelspec": {
   "display_name": "lewagon",
   "language": "python",
   "name": "python3"
  },
  "language_info": {
   "codemirror_mode": {
    "name": "ipython",
    "version": 3
   },
   "file_extension": ".py",
   "mimetype": "text/x-python",
   "name": "python",
   "nbconvert_exporter": "python",
   "pygments_lexer": "ipython3",
   "version": "3.10.6"
  }
 },
 "nbformat": 4,
 "nbformat_minor": 2
}
