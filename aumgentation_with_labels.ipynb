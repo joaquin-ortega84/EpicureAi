{
 "cells": [
  {
   "cell_type": "code",
   "execution_count": null,
   "metadata": {},
   "outputs": [],
   "source": []
  },
  {
   "cell_type": "markdown",
   "metadata": {},
   "source": []
  },
  {
   "cell_type": "code",
   "execution_count": 3,
   "metadata": {},
   "outputs": [
    {
     "name": "stdout",
     "output_type": "stream",
     "text": [
      "Using TensorFlow backend\n"
     ]
    }
   ],
   "source": [
    "import os\n",
    "from tqdm.auto import tqdm\n",
    "import xml.etree.ElementTree as ET\n",
    "\n",
    "import tensorflow as tf\n",
    "from tensorflow import keras\n",
    "\n",
    "import keras_cv\n",
    "from keras_cv import bounding_box\n",
    "from keras_cv import visualization\n"
   ]
  },
  {
   "cell_type": "code",
   "execution_count": 4,
   "metadata": {},
   "outputs": [],
   "source": [
    "from ml_logic.params import *\n"
   ]
  },
  {
   "cell_type": "code",
   "execution_count": 5,
   "metadata": {},
   "outputs": [],
   "source": [
    "SPLIT_RATIO = 0.2\n",
    "BATCH_SIZE = 4\n",
    "LEARNING_RATE = 0.001\n",
    "EPOCH = 5\n",
    "GLOBAL_CLIPNORM = 10.0\n"
   ]
  },
  {
   "cell_type": "code",
   "execution_count": 11,
   "metadata": {},
   "outputs": [],
   "source": [
    "class_ids = [\n",
    "    \"avocado\",\n",
    "    \"banana\",\n",
    "    \"carrot\",\n",
    "    \"cheese\",\n",
    "    \"courgette\",\n",
    "    \"egg\",\n",
    "    \"milk_almendra\",\n",
    "    \"oat\",\n",
    "    \"olive_oil\",\n",
    "    \"pasta_fusili_lentil\",\n",
    "    \"potato\",\n",
    "    \"quinoa\",\n",
    "    \"rice\",\n",
    "    \"salmon\",\n",
    "    \"sweet_potato\",\n",
    "    \"tomato\"\n",
    "]\n"
   ]
  },
  {
   "cell_type": "code",
   "execution_count": 12,
   "metadata": {},
   "outputs": [],
   "source": [
    "class_mapping = dict(zip(range(len(class_ids)), class_ids))\n",
    "\n",
    "# Path to images and annotations\n",
    "path_images = '/Users/joaqo/code/joaquin-ortega84/projects/EpicureAi/EpicureAi-4/train/images'\n",
    "path_annot = '/Users/joaqo/code/joaquin-ortega84/projects/EpicureAi/EpicureAi-4/train/labels'\n",
    "\n",
    "\n",
    "# Get all JPEG image file paths in path_images and sort them\n",
    "jpg_files = sorted(\n",
    "    [\n",
    "        os.path.join(path_images, file_name)\n",
    "        for file_name in os.listdir(path_images)\n",
    "        if file_name.endswith(\".jpg\")\n",
    "    ])\n"
   ]
  },
  {
   "cell_type": "code",
   "execution_count": 13,
   "metadata": {},
   "outputs": [
    {
     "data": {
      "text/plain": [
       "{0: 'avocado',\n",
       " 1: 'banana',\n",
       " 2: 'carrot',\n",
       " 3: 'cheese',\n",
       " 4: 'courgette',\n",
       " 5: 'egg',\n",
       " 6: 'milk_almendra',\n",
       " 7: 'oat',\n",
       " 8: 'olive_oil',\n",
       " 9: 'pasta_fusili_lentil',\n",
       " 10: 'potato',\n",
       " 11: 'quinoa',\n",
       " 12: 'rice',\n",
       " 13: 'salmon',\n",
       " 14: 'sweet_potato',\n",
       " 15: 'tomato'}"
      ]
     },
     "execution_count": 13,
     "metadata": {},
     "output_type": "execute_result"
    }
   ],
   "source": [
    "class_mapping\n"
   ]
  },
  {
   "cell_type": "code",
   "execution_count": null,
   "metadata": {},
   "outputs": [],
   "source": []
  }
 ],
 "metadata": {
  "kernelspec": {
   "display_name": "lewagon",
   "language": "python",
   "name": "python3"
  },
  "language_info": {
   "codemirror_mode": {
    "name": "ipython",
    "version": 3
   },
   "file_extension": ".py",
   "mimetype": "text/x-python",
   "name": "python",
   "nbconvert_exporter": "python",
   "pygments_lexer": "ipython3",
   "version": "3.10.6"
  }
 },
 "nbformat": 4,
 "nbformat_minor": 2
}
