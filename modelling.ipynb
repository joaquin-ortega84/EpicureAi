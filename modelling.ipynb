{
 "cells": [
  {
   "cell_type": "code",
   "execution_count": null,
   "metadata": {},
   "outputs": [],
   "source": [
    "# All imports\n",
    "import comet_ml\n",
    "from ultralytics import YOLO\n",
    "from params import *\n",
    "from PIL import Image\n"
   ]
  },
  {
   "cell_type": "code",
   "execution_count": 7,
   "metadata": {},
   "outputs": [
    {
     "name": "stdout",
     "output_type": "stream",
     "text": [
      "Please paste your Comet API key from https://www.comet.com/api/my/settings/\n",
      "(api key may not show as you type)\n"
     ]
    },
    {
     "name": "stderr",
     "output_type": "stream",
     "text": [
      "\u001b[1;38;5;196mCOMET ERROR:\u001b[0m Invalid Comet API key for https://www.comet.com/clientlib/\n",
      "Please see https://www.comet.com/docs/command-line/#comet-check for more information.\n",
      "Use: comet_ml.init() to try again\n"
     ]
    },
    {
     "name": "stdout",
     "output_type": "stream",
     "text": [
      "New https://pypi.org/project/ultralytics/8.0.220 available 😃 Update with 'pip install -U ultralytics'\n",
      "Ultralytics YOLOv8.0.219 🚀 Python-3.10.6 torch-2.1.1 CPU (Apple M1)\n",
      "\u001b[34m\u001b[1mengine/trainer: \u001b[0mtask=detect, mode=train, model=yolov8n.pt, data=/Users/joaqo/code/joaquin-ortega84/projects/EpicureAi/EpicureAi-8/data.yaml, epochs=3, patience=50, batch=16, imgsz=512, save=True, save_period=-1, cache=False, device=cpu, workers=8, project=None, name=train4, exist_ok=False, pretrained=True, optimizer=auto, verbose=True, seed=0, deterministic=True, single_cls=False, rect=False, cos_lr=False, close_mosaic=10, resume=False, amp=True, fraction=1.0, profile=False, freeze=None, overlap_mask=True, mask_ratio=4, dropout=0.0, val=True, split=val, save_json=False, save_hybrid=False, conf=None, iou=0.7, max_det=300, half=False, dnn=False, plots=True, source=None, vid_stride=1, stream_buffer=False, visualize=False, augment=False, agnostic_nms=False, classes=None, retina_masks=False, show=False, save_frames=False, save_txt=False, save_conf=False, save_crop=False, show_labels=True, show_conf=True, show_boxes=True, line_width=None, format=torchscript, keras=False, optimize=False, int8=False, dynamic=False, simplify=False, opset=None, workspace=4, nms=False, lr0=0.01, lrf=0.01, momentum=0.937, weight_decay=0.0005, warmup_epochs=3.0, warmup_momentum=0.8, warmup_bias_lr=0.1, box=7.5, cls=0.5, dfl=1.5, pose=12.0, kobj=1.0, label_smoothing=0.0, nbs=64, hsv_h=0.015, hsv_s=0.7, hsv_v=0.4, degrees=0.0, translate=0.1, scale=0.5, shear=0.0, perspective=0.0, flipud=0.0, fliplr=0.5, mosaic=1.0, mixup=0.0, copy_paste=0.0, cfg=None, tracker=botsort.yaml, save_dir=runs/detect/train4\n",
      "Overriding model.yaml nc=80 with nc=19\n",
      "\n",
      "                   from  n    params  module                                       arguments                     \n",
      "  0                  -1  1       464  ultralytics.nn.modules.conv.Conv             [3, 16, 3, 2]                 \n",
      "  1                  -1  1      4672  ultralytics.nn.modules.conv.Conv             [16, 32, 3, 2]                \n",
      "  2                  -1  1      7360  ultralytics.nn.modules.block.C2f             [32, 32, 1, True]             \n",
      "  3                  -1  1     18560  ultralytics.nn.modules.conv.Conv             [32, 64, 3, 2]                \n",
      "  4                  -1  2     49664  ultralytics.nn.modules.block.C2f             [64, 64, 2, True]             \n",
      "  5                  -1  1     73984  ultralytics.nn.modules.conv.Conv             [64, 128, 3, 2]               \n",
      "  6                  -1  2    197632  ultralytics.nn.modules.block.C2f             [128, 128, 2, True]           \n",
      "  7                  -1  1    295424  ultralytics.nn.modules.conv.Conv             [128, 256, 3, 2]              \n",
      "  8                  -1  1    460288  ultralytics.nn.modules.block.C2f             [256, 256, 1, True]           \n",
      "  9                  -1  1    164608  ultralytics.nn.modules.block.SPPF            [256, 256, 5]                 \n",
      " 10                  -1  1         0  torch.nn.modules.upsampling.Upsample         [None, 2, 'nearest']          \n",
      " 11             [-1, 6]  1         0  ultralytics.nn.modules.conv.Concat           [1]                           \n",
      " 12                  -1  1    148224  ultralytics.nn.modules.block.C2f             [384, 128, 1]                 \n",
      " 13                  -1  1         0  torch.nn.modules.upsampling.Upsample         [None, 2, 'nearest']          \n",
      " 14             [-1, 4]  1         0  ultralytics.nn.modules.conv.Concat           [1]                           \n",
      " 15                  -1  1     37248  ultralytics.nn.modules.block.C2f             [192, 64, 1]                  \n",
      " 16                  -1  1     36992  ultralytics.nn.modules.conv.Conv             [64, 64, 3, 2]                \n",
      " 17            [-1, 12]  1         0  ultralytics.nn.modules.conv.Concat           [1]                           \n",
      " 18                  -1  1    123648  ultralytics.nn.modules.block.C2f             [192, 128, 1]                 \n",
      " 19                  -1  1    147712  ultralytics.nn.modules.conv.Conv             [128, 128, 3, 2]              \n",
      " 20             [-1, 9]  1         0  ultralytics.nn.modules.conv.Concat           [1]                           \n",
      " 21                  -1  1    493056  ultralytics.nn.modules.block.C2f             [384, 256, 1]                 \n",
      " 22        [15, 18, 21]  1    755017  ultralytics.nn.modules.head.Detect           [19, [64, 128, 256]]          \n",
      "Model summary: 225 layers, 3014553 parameters, 3014537 gradients, 8.2 GFLOPs\n",
      "\n",
      "Transferred 319/355 items from pretrained weights\n",
      "WARNING ⚠️ Comet installed but not initialized correctly, not logging this run. Comet.ml requires an API key. Please provide as the first argument to Experiment(api_key) or as an environment variable named COMET_API_KEY \n",
      "Freezing layer 'model.22.dfl.conv.weight'\n"
     ]
    },
    {
     "name": "stderr",
     "output_type": "stream",
     "text": [
      "\u001b[34m\u001b[1mtrain: \u001b[0mScanning /Users/joaqo/code/joaquin-ortega84/projects/EpicureAi/EpicureAi-8/train/labels.cache... 157 images, 0 backgrounds, 0 corrupt: 100%|██████████| 157/157 [00:00<?, ?it/s]\n",
      "\u001b[34m\u001b[1mval: \u001b[0mScanning /Users/joaqo/code/joaquin-ortega84/projects/EpicureAi/EpicureAi-8/valid/labels.cache... 68 images, 0 backgrounds, 0 corrupt: 100%|██████████| 68/68 [00:00<?, ?it/s]"
     ]
    },
    {
     "name": "stdout",
     "output_type": "stream",
     "text": [
      "Plotting labels to runs/detect/train4/labels.jpg... \n"
     ]
    },
    {
     "name": "stderr",
     "output_type": "stream",
     "text": [
      "\n"
     ]
    },
    {
     "name": "stdout",
     "output_type": "stream",
     "text": [
      "\u001b[34m\u001b[1moptimizer:\u001b[0m 'optimizer=auto' found, ignoring 'lr0=0.01' and 'momentum=0.937' and determining best 'optimizer', 'lr0' and 'momentum' automatically... \n",
      "\u001b[34m\u001b[1moptimizer:\u001b[0m AdamW(lr=0.000435, momentum=0.9) with parameter groups 57 weight(decay=0.0), 64 weight(decay=0.0005), 63 bias(decay=0.0)\n",
      "Image sizes 512 train, 512 val\n",
      "Using 0 dataloader workers\n",
      "Logging results to \u001b[1mruns/detect/train4\u001b[0m\n",
      "Starting training for 3 epochs...\n",
      "\n",
      "      Epoch    GPU_mem   box_loss   cls_loss   dfl_loss  Instances       Size\n"
     ]
    },
    {
     "name": "stderr",
     "output_type": "stream",
     "text": [
      "        1/3         0G      1.191      4.433      1.297        190        512: 100%|██████████| 10/10 [00:42<00:00,  4.23s/it]\n",
      "                 Class     Images  Instances      Box(P          R      mAP50  mAP50-95): 100%|██████████| 3/3 [00:08<00:00,  2.74s/it]"
     ]
    },
    {
     "name": "stdout",
     "output_type": "stream",
     "text": [
      "                   all         68        366          0          0          0          0\n"
     ]
    },
    {
     "name": "stderr",
     "output_type": "stream",
     "text": [
      "\n"
     ]
    },
    {
     "name": "stdout",
     "output_type": "stream",
     "text": [
      "\n",
      "      Epoch    GPU_mem   box_loss   cls_loss   dfl_loss  Instances       Size\n"
     ]
    },
    {
     "name": "stderr",
     "output_type": "stream",
     "text": [
      "        2/3         0G     0.9441      4.146      1.152        180        512: 100%|██████████| 10/10 [00:46<00:00,  4.67s/it]\n",
      "                 Class     Images  Instances      Box(P          R      mAP50  mAP50-95): 100%|██████████| 3/3 [00:12<00:00,  4.19s/it]"
     ]
    },
    {
     "name": "stdout",
     "output_type": "stream",
     "text": [
      "                   all         68        366          0          0          0          0\n"
     ]
    },
    {
     "name": "stderr",
     "output_type": "stream",
     "text": [
      "\n"
     ]
    },
    {
     "name": "stdout",
     "output_type": "stream",
     "text": [
      "\n",
      "      Epoch    GPU_mem   box_loss   cls_loss   dfl_loss  Instances       Size\n"
     ]
    },
    {
     "name": "stderr",
     "output_type": "stream",
     "text": [
      "        3/3         0G      0.983      3.935      1.154        170        512: 100%|██████████| 10/10 [01:01<00:00,  6.11s/it]\n",
      "                 Class     Images  Instances      Box(P          R      mAP50  mAP50-95): 100%|██████████| 3/3 [00:11<00:00,  3.82s/it]"
     ]
    },
    {
     "name": "stdout",
     "output_type": "stream",
     "text": [
      "                   all         68        366      0.046     0.0436     0.0453     0.0274\n"
     ]
    },
    {
     "name": "stderr",
     "output_type": "stream",
     "text": [
      "\n"
     ]
    },
    {
     "name": "stdout",
     "output_type": "stream",
     "text": [
      "\n",
      "3 epochs completed in 0.051 hours.\n",
      "Optimizer stripped from runs/detect/train4/weights/last.pt, 6.2MB\n",
      "Optimizer stripped from runs/detect/train4/weights/best.pt, 6.2MB\n",
      "\n",
      "Validating runs/detect/train4/weights/best.pt...\n",
      "Ultralytics YOLOv8.0.219 🚀 Python-3.10.6 torch-2.1.1 CPU (Apple M1)\n",
      "Model summary (fused): 168 layers, 3009353 parameters, 0 gradients, 8.1 GFLOPs\n"
     ]
    },
    {
     "name": "stderr",
     "output_type": "stream",
     "text": [
      "                 Class     Images  Instances      Box(P          R      mAP50  mAP50-95): 100%|██████████| 3/3 [00:10<00:00,  3.60s/it]\n"
     ]
    },
    {
     "name": "stdout",
     "output_type": "stream",
     "text": [
      "                   all         68        366      0.046     0.0436     0.0453     0.0274\n",
      "               avocado         68          4          0          0          0          0\n",
      "                banana         68         30          0          0          0          0\n",
      "                carrot         68         36          0          0          0          0\n",
      "                cheese         68         10      0.667        0.4      0.598      0.387\n",
      "             courgette         68         16          0          0          0          0\n",
      "    cured_ goat_cheese         68          4          0          0          0          0\n",
      "                   egg         68         61          0          0          0          0\n",
      "                   mik         68          2          0          0          0          0\n",
      "           milk_almond         68          8          0          0          0          0\n",
      "                   oat         68          4          0          0          0          0\n",
      "             olive_oil         68          8          0          0          0          0\n",
      "                potato         68         53          0          0          0          0\n",
      "                quinoa         68          9          0          0          0          0\n",
      "                  rice         68         13      0.161      0.385      0.218      0.106\n",
      "                salmon         68         30          0          0          0          0\n",
      "              spagetti         68          2          0          0          0          0\n",
      "          sweet_potato         68         13          0          0          0          0\n",
      "                tomato         68         63          0          0          0          0\n",
      "Speed: 0.9ms preprocess, 154.1ms inference, 0.0ms loss, 0.2ms postprocess per image\n",
      "Results saved to \u001b[1mruns/detect/train4\u001b[0m\n"
     ]
    },
    {
     "ename": "TypeError",
     "evalue": "Model.export() takes 1 positional argument but 2 were given",
     "output_type": "error",
     "traceback": [
      "\u001b[0;31m---------------------------------------------------------------------------\u001b[0m",
      "\u001b[0;31mTypeError\u001b[0m                                 Traceback (most recent call last)",
      "\u001b[1;32m/Users/joaqo/code/joaquin-ortega84/projects/EpicureAi/modelling.ipynb Cell 2\u001b[0m line \u001b[0;36m1\n\u001b[1;32m      <a href='vscode-notebook-cell:/Users/joaqo/code/joaquin-ortega84/projects/EpicureAi/modelling.ipynb#X21sZmlsZQ%3D%3D?line=8'>9</a>\u001b[0m model\u001b[39m.\u001b[39mtrain(\n\u001b[1;32m     <a href='vscode-notebook-cell:/Users/joaqo/code/joaquin-ortega84/projects/EpicureAi/modelling.ipynb#X21sZmlsZQ%3D%3D?line=9'>10</a>\u001b[0m     data\u001b[39m=\u001b[39myaml_path,\n\u001b[1;32m     <a href='vscode-notebook-cell:/Users/joaqo/code/joaquin-ortega84/projects/EpicureAi/modelling.ipynb#X21sZmlsZQ%3D%3D?line=10'>11</a>\u001b[0m     epochs\u001b[39m=\u001b[39mNUM_EPOCHS,\n\u001b[0;32m   (...)\u001b[0m\n\u001b[1;32m     <a href='vscode-notebook-cell:/Users/joaqo/code/joaquin-ortega84/projects/EpicureAi/modelling.ipynb#X21sZmlsZQ%3D%3D?line=13'>14</a>\u001b[0m     device\u001b[39m=\u001b[39mDEVICE,\n\u001b[1;32m     <a href='vscode-notebook-cell:/Users/joaqo/code/joaquin-ortega84/projects/EpicureAi/modelling.ipynb#X21sZmlsZQ%3D%3D?line=14'>15</a>\u001b[0m )\n\u001b[1;32m     <a href='vscode-notebook-cell:/Users/joaqo/code/joaquin-ortega84/projects/EpicureAi/modelling.ipynb#X21sZmlsZQ%3D%3D?line=16'>17</a>\u001b[0m \u001b[39m# Export the model to ONNX format\u001b[39;00m\n\u001b[0;32m---> <a href='vscode-notebook-cell:/Users/joaqo/code/joaquin-ortega84/projects/EpicureAi/modelling.ipynb#X21sZmlsZQ%3D%3D?line=17'>18</a>\u001b[0m path \u001b[39m=\u001b[39m model\u001b[39m.\u001b[39;49mexport(\u001b[39m'\u001b[39;49m\u001b[39myolo_trained.pt\u001b[39;49m\u001b[39m'\u001b[39;49m)\n",
      "\u001b[0;31mTypeError\u001b[0m: Model.export() takes 1 positional argument but 2 were given"
     ]
    }
   ],
   "source": [
    "comet_ml.init()\n",
    "\n",
    "yaml_path = '/Users/joaqo/code/joaquin-ortega84/projects/EpicureAi/EpicureAi-8/data.yaml'\n",
    "\n",
    "# Load the pre-trained model\n",
    "model = YOLO(\"yolov8n.pt\")\n",
    "\n",
    "# Train the model\n",
    "results = model.train(\n",
    "    data=yaml_path,\n",
    "    epochs=NUM_EPOCHS,\n",
    "    imgsz=IMGSZ,\n",
    "    save=True,\n",
    "    device=DEVICE,\n",
    ")\n",
    "\n",
    "# Export the model to ONNX format\n",
    "# path = model.export()\n"
   ]
  },
  {
   "cell_type": "code",
   "execution_count": null,
   "metadata": {},
   "outputs": [],
   "source": [
    "os.path.join(os.getcwd())\n"
   ]
  },
  {
   "cell_type": "code",
   "execution_count": 48,
   "metadata": {},
   "outputs": [
    {
     "name": "stdout",
     "output_type": "stream",
     "text": [
      "Ultralytics YOLOv8.0.219 🚀 Python-3.10.6 torch-2.1.1 CPU (Apple M1)\n"
     ]
    },
    {
     "name": "stderr",
     "output_type": "stream",
     "text": [
      "\u001b[34m\u001b[1mval: \u001b[0mScanning /Users/joaqo/code/joaquin-ortega84/projects/EpicureAi/EpicureAi-8/valid/labels.cache... 68 images, 0 backgrounds, 0 corrupt: 100%|██████████| 68/68 [00:00<?, ?it/s]\n",
      "                 Class     Images  Instances      Box(P          R      mAP50  mAP50-95): 100%|██████████| 5/5 [00:08<00:00,  1.62s/it]\n"
     ]
    },
    {
     "name": "stdout",
     "output_type": "stream",
     "text": [
      "                   all         68        366      0.046     0.0436     0.0453     0.0274\n",
      "               avocado         68          4          0          0          0          0\n",
      "                banana         68         30          0          0          0          0\n",
      "                carrot         68         36          0          0          0          0\n",
      "                cheese         68         10      0.667        0.4      0.598      0.387\n",
      "             courgette         68         16          0          0          0          0\n",
      "    cured_ goat_cheese         68          4          0          0          0          0\n",
      "                   egg         68         61          0          0          0          0\n",
      "                   mik         68          2          0          0          0          0\n",
      "           milk_almond         68          8          0          0          0          0\n",
      "                   oat         68          4          0          0          0          0\n",
      "             olive_oil         68          8          0          0          0          0\n",
      "                potato         68         53          0          0          0          0\n",
      "                quinoa         68          9          0          0          0          0\n",
      "                  rice         68         13      0.161      0.385      0.218      0.106\n",
      "                salmon         68         30          0          0          0          0\n",
      "              spagetti         68          2          0          0          0          0\n",
      "          sweet_potato         68         13          0          0          0          0\n",
      "                tomato         68         63          0          0          0          0\n",
      "Speed: 1.0ms preprocess, 115.7ms inference, 0.0ms loss, 0.2ms postprocess per image\n",
      "Results saved to \u001b[1mruns/detect/train7\u001b[0m\n"
     ]
    },
    {
     "data": {
      "text/plain": [
       "array([          0,           0,           0,     0.38708,           0,           0,           0,           0,           0,           0,    0.027412,           0,           0,           0,     0.10633,           0,           0,           0,           0])"
      ]
     },
     "execution_count": 48,
     "metadata": {},
     "output_type": "execute_result"
    }
   ],
   "source": [
    "# EVALUATE THE MODEL\n",
    "\n",
    "metrics = model.val()  # no arguments needed, dataset and settings remembered\n",
    "metrics.box.map    # map50-95\n",
    "metrics.box.map50  # map50\n",
    "metrics.box.map75  # map75\n",
    "metrics.box.maps\n"
   ]
  },
  {
   "cell_type": "code",
   "execution_count": 54,
   "metadata": {},
   "outputs": [],
   "source": [
    "# Perform object detection on an image using the model\n",
    "source = '/Users/joaqo/code/joaquin-ortega84/projects/EpicureAi/EpicureAi-8/valid/images/avocado_JPG.rf.8d692806c9acb5834abba5a1bb65e27d.jpg'\n"
   ]
  },
  {
   "cell_type": "code",
   "execution_count": 55,
   "metadata": {},
   "outputs": [
    {
     "name": "stdout",
     "output_type": "stream",
     "text": [
      "\n",
      "WARNING ⚠️ imgsz=[516] must be multiple of max stride 32, updating to [544]\n",
      "image 1/1 /Users/joaqo/code/joaquin-ortega84/projects/EpicureAi/EpicureAi-8/valid/images/avocado_JPG.rf.8d692806c9acb5834abba5a1bb65e27d.jpg: 544x544 (no detections), 115.3ms\n",
      "Speed: 4.6ms preprocess, 115.3ms inference, 0.4ms postprocess per image at shape (1, 3, 544, 544)\n"
     ]
    },
    {
     "data": {
      "text/plain": [
       "[ultralytics.engine.results.Results object with attributes:\n",
       " \n",
       " boxes: ultralytics.engine.results.Boxes object\n",
       " keypoints: None\n",
       " masks: None\n",
       " names: {0: 'avocado', 1: 'banana', 2: 'carrot', 3: 'cheese', 4: 'courgette', 5: 'cured_ goat_cheese', 6: 'egg', 7: 'mik', 8: 'milk_almond', 9: 'oat', 10: 'oat_milk', 11: 'olive_oil', 12: 'potato', 13: 'quinoa', 14: 'rice', 15: 'salmon', 16: 'spagetti', 17: 'sweet_potato', 18: 'tomato'}\n",
       " orig_img: array([[[ 90, 116, 133],\n",
       "         [ 91, 117, 134],\n",
       "         [ 88, 114, 131],\n",
       "         ...,\n",
       "         [154, 151, 153],\n",
       "         [155, 152, 154],\n",
       "         [155, 152, 154]],\n",
       " \n",
       "        [[ 88, 114, 131],\n",
       "         [ 84, 110, 127],\n",
       "         [ 85, 111, 128],\n",
       "         ...,\n",
       "         [154, 151, 153],\n",
       "         [156, 153, 155],\n",
       "         [157, 154, 156]],\n",
       " \n",
       "        [[ 83, 109, 125],\n",
       "         [ 79, 105, 121],\n",
       "         [ 90, 116, 132],\n",
       "         ...,\n",
       "         [152, 151, 153],\n",
       "         [157, 154, 156],\n",
       "         [158, 155, 157]],\n",
       " \n",
       "        ...,\n",
       " \n",
       "        [[ 62,  76,  82],\n",
       "         [ 64,  78,  84],\n",
       "         [ 68,  83,  86],\n",
       "         ...,\n",
       "         [116, 128, 130],\n",
       "         [116, 128, 130],\n",
       "         [116, 128, 130]],\n",
       " \n",
       "        [[ 63,  75,  79],\n",
       "         [ 69,  81,  85],\n",
       "         [ 74,  86,  90],\n",
       "         ...,\n",
       "         [116, 128, 130],\n",
       "         [116, 128, 130],\n",
       "         [116, 128, 130]],\n",
       " \n",
       "        [[ 72,  84,  88],\n",
       "         [ 71,  83,  87],\n",
       "         [ 60,  72,  76],\n",
       "         ...,\n",
       "         [116, 128, 130],\n",
       "         [116, 128, 130],\n",
       "         [116, 128, 130]]], dtype=uint8)\n",
       " orig_shape: (512, 512)\n",
       " path: '/Users/joaqo/code/joaquin-ortega84/projects/EpicureAi/EpicureAi-8/valid/images/avocado_JPG.rf.8d692806c9acb5834abba5a1bb65e27d.jpg'\n",
       " probs: None\n",
       " save_dir: None\n",
       " speed: {'preprocess': 4.5566558837890625, 'inference': 115.26083946228027, 'postprocess': 0.3731250762939453}]"
      ]
     },
     "execution_count": 55,
     "metadata": {},
     "output_type": "execute_result"
    }
   ],
   "source": [
    "model.predict(source, imgsz=516)\n"
   ]
  },
  {
   "cell_type": "code",
   "execution_count": 4,
   "metadata": {},
   "outputs": [
    {
     "ename": "NameError",
     "evalue": "name 'Image' is not defined",
     "output_type": "error",
     "traceback": [
      "\u001b[0;31m---------------------------------------------------------------------------\u001b[0m",
      "\u001b[0;31mNameError\u001b[0m                                 Traceback (most recent call last)",
      "\u001b[1;32m/Users/joaqo/code/joaquin-ortega84/projects/EpicureAi/modelling.ipynb Cell 7\u001b[0m line \u001b[0;36m2\n\u001b[1;32m      <a href='vscode-notebook-cell:/Users/joaqo/code/joaquin-ortega84/projects/EpicureAi/modelling.ipynb#X24sZmlsZQ%3D%3D?line=0'>1</a>\u001b[0m \u001b[39m# from PIL\u001b[39;00m\n\u001b[0;32m----> <a href='vscode-notebook-cell:/Users/joaqo/code/joaquin-ortega84/projects/EpicureAi/modelling.ipynb#X24sZmlsZQ%3D%3D?line=1'>2</a>\u001b[0m im1 \u001b[39m=\u001b[39m Image\u001b[39m.\u001b[39mopen(\u001b[39m\"\u001b[39m\u001b[39mEpicureAi-8/valid/images/avocado_JPG.rf.8d692806c9acb5834abba5a1bb65e27d.jpg\u001b[39m\u001b[39m\"\u001b[39m)\n\u001b[1;32m      <a href='vscode-notebook-cell:/Users/joaqo/code/joaquin-ortega84/projects/EpicureAi/modelling.ipynb#X24sZmlsZQ%3D%3D?line=2'>3</a>\u001b[0m results \u001b[39m=\u001b[39m model\u001b[39m.\u001b[39mpredict(source\u001b[39m=\u001b[39mim1, save\u001b[39m=\u001b[39m\u001b[39mTrue\u001b[39;00m)\n\u001b[1;32m      <a href='vscode-notebook-cell:/Users/joaqo/code/joaquin-ortega84/projects/EpicureAi/modelling.ipynb#X24sZmlsZQ%3D%3D?line=3'>4</a>\u001b[0m results\n",
      "\u001b[0;31mNameError\u001b[0m: name 'Image' is not defined"
     ]
    }
   ],
   "source": [
    "\n",
    "# from PIL\n",
    "im1 = Image.open(\"EpicureAi-8/valid/images/avocado_JPG.rf.8d692806c9acb5834abba5a1bb65e27d.jpg\")\n",
    "results = model.predict(source=im1, save=True)\n",
    "results\n"
   ]
  },
  {
   "cell_type": "code",
   "execution_count": null,
   "metadata": {},
   "outputs": [],
   "source": []
  }
 ],
 "metadata": {
  "kernelspec": {
   "display_name": "epicure_ai",
   "language": "python",
   "name": "python3"
  },
  "language_info": {
   "codemirror_mode": {
    "name": "ipython",
    "version": 3
   },
   "file_extension": ".py",
   "mimetype": "text/x-python",
   "name": "python",
   "nbconvert_exporter": "python",
   "pygments_lexer": "ipython3",
   "version": "3.10.6"
  }
 },
 "nbformat": 4,
 "nbformat_minor": 2
}
